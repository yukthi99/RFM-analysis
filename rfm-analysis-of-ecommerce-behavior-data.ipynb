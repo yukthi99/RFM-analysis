{
 "cells": [
  {
   "cell_type": "markdown",
   "id": "17db883b",
   "metadata": {
    "papermill": {
     "duration": 0.033531,
     "end_time": "2021-07-11T04:16:55.267099",
     "exception": false,
     "start_time": "2021-07-11T04:16:55.233568",
     "status": "completed"
    },
    "tags": []
   },
   "source": []
  },
  {
   "cell_type": "markdown",
   "id": "5fbe19d1",
   "metadata": {
    "id": "aXWXqPyokiDA",
    "papermill": {
     "duration": 0.031873,
     "end_time": "2021-07-11T04:16:55.337409",
     "exception": false,
     "start_time": "2021-07-11T04:16:55.305536",
     "status": "completed"
    },
    "tags": []
   },
   "source": [
    "# **Data Preprocessing**"
   ]
  },
  {
   "cell_type": "code",
   "execution_count": 1,
   "id": "4eb46c91",
   "metadata": {
    "execution": {
     "iopub.execute_input": "2021-07-11T04:16:55.416397Z",
     "iopub.status.busy": "2021-07-11T04:16:55.415209Z",
     "iopub.status.idle": "2021-07-11T04:16:55.437778Z",
     "shell.execute_reply": "2021-07-11T04:16:55.437082Z",
     "shell.execute_reply.started": "2021-07-11T02:24:26.528874Z"
    },
    "id": "1OJFjjRpJC4S",
    "papermill": {
     "duration": 0.061876,
     "end_time": "2021-07-11T04:16:55.437941",
     "exception": false,
     "start_time": "2021-07-11T04:16:55.376065",
     "status": "completed"
    },
    "tags": []
   },
   "outputs": [],
   "source": [
    "#Import Library\n",
    "import pandas as pd\n",
    "import numpy as np\n",
    "import os\n",
    "import matplotlib.pyplot as plt\n",
    "import squarify"
   ]
  },
  {
   "cell_type": "markdown",
   "id": "0122ab8d",
   "metadata": {
    "papermill": {
     "duration": 0.032309,
     "end_time": "2021-07-11T04:16:55.503600",
     "exception": false,
     "start_time": "2021-07-11T04:16:55.471291",
     "status": "completed"
    },
    "tags": []
   },
   "source": [
    "# **Load The Data**"
   ]
  },
  {
   "cell_type": "code",
   "execution_count": 2,
   "id": "bb1aaab7",
   "metadata": {
    "execution": {
     "iopub.execute_input": "2021-07-11T04:16:55.575548Z",
     "iopub.status.busy": "2021-07-11T04:16:55.574809Z",
     "iopub.status.idle": "2021-07-11T04:16:55.718754Z",
     "shell.execute_reply": "2021-07-11T04:16:55.719272Z",
     "shell.execute_reply.started": "2021-07-11T02:24:28.178691Z"
    },
    "papermill": {
     "duration": 0.182601,
     "end_time": "2021-07-11T04:16:55.719470",
     "exception": false,
     "start_time": "2021-07-11T04:16:55.536869",
     "status": "completed"
    },
    "tags": []
   },
   "outputs": [
    {
     "data": {
      "text/html": [
       "<div>\n",
       "<style scoped>\n",
       "    .dataframe tbody tr th:only-of-type {\n",
       "        vertical-align: middle;\n",
       "    }\n",
       "\n",
       "    .dataframe tbody tr th {\n",
       "        vertical-align: top;\n",
       "    }\n",
       "\n",
       "    .dataframe thead th {\n",
       "        text-align: right;\n",
       "    }\n",
       "</style>\n",
       "<table border=\"1\" class=\"dataframe\">\n",
       "  <thead>\n",
       "    <tr style=\"text-align: right;\">\n",
       "      <th></th>\n",
       "      <th>event_time</th>\n",
       "      <th>event_type</th>\n",
       "      <th>product_id</th>\n",
       "      <th>category_id</th>\n",
       "      <th>category_code</th>\n",
       "      <th>brand</th>\n",
       "      <th>price</th>\n",
       "      <th>user_id</th>\n",
       "      <th>user_session</th>\n",
       "    </tr>\n",
       "  </thead>\n",
       "  <tbody>\n",
       "    <tr>\n",
       "      <th>0</th>\n",
       "      <td>2019-10-01 00:00:00 UTC</td>\n",
       "      <td>view</td>\n",
       "      <td>44600062</td>\n",
       "      <td>2103807459595387724</td>\n",
       "      <td>NaN</td>\n",
       "      <td>shiseido</td>\n",
       "      <td>35.79</td>\n",
       "      <td>541312140</td>\n",
       "      <td>72d76fde-8bb3-4e00-8c23-a032dfed738c</td>\n",
       "    </tr>\n",
       "  </tbody>\n",
       "</table>\n",
       "</div>"
      ],
      "text/plain": [
       "                event_time event_type  product_id          category_id  \\\n",
       "0  2019-10-01 00:00:00 UTC       view    44600062  2103807459595387724   \n",
       "\n",
       "   category_code     brand  price    user_id  \\\n",
       "0            NaN  shiseido  35.79  541312140   \n",
       "\n",
       "                           user_session  \n",
       "0  72d76fde-8bb3-4e00-8c23-a032dfed738c  "
      ]
     },
     "execution_count": 2,
     "metadata": {},
     "output_type": "execute_result"
    }
   ],
   "source": [
    "data_oct = pd.read_csv('../input/ecommerce-behavior-data-from-multi-category-store/2019-Oct.csv',nrows=1)\n",
    "data_oct"
   ]
  },
  {
   "cell_type": "markdown",
   "id": "2db52001",
   "metadata": {
    "papermill": {
     "duration": 0.033112,
     "end_time": "2021-07-11T04:16:55.787343",
     "exception": false,
     "start_time": "2021-07-11T04:16:55.754231",
     "status": "completed"
    },
    "tags": []
   },
   "source": [
    "**only load the required data **"
   ]
  },
  {
   "cell_type": "code",
   "execution_count": 3,
   "id": "73e485f0",
   "metadata": {
    "execution": {
     "iopub.execute_input": "2021-07-11T04:16:55.859300Z",
     "iopub.status.busy": "2021-07-11T04:16:55.858624Z",
     "iopub.status.idle": "2021-07-11T04:22:00.267125Z",
     "shell.execute_reply": "2021-07-11T04:22:00.266319Z",
     "shell.execute_reply.started": "2021-07-11T02:24:32.180975Z"
    },
    "papermill": {
     "duration": 304.446777,
     "end_time": "2021-07-11T04:22:00.267341",
     "exception": false,
     "start_time": "2021-07-11T04:16:55.820564",
     "status": "completed"
    },
    "tags": []
   },
   "outputs": [],
   "source": [
    "data_oct = pd.read_csv('../input/ecommerce-behavior-data-from-multi-category-store/2019-Oct.csv',usecols=['event_time','event_type','price','user_id','user_session'])\n",
    "data_nov = pd.read_csv('../input/ecommerce-behavior-data-from-multi-category-store/2019-Nov.csv',usecols=['event_time','event_type','price','user_id','user_session'])"
   ]
  },
  {
   "cell_type": "code",
   "execution_count": 4,
   "id": "6ad1e1b7",
   "metadata": {
    "execution": {
     "iopub.execute_input": "2021-07-11T04:22:00.351398Z",
     "iopub.status.busy": "2021-07-11T04:22:00.350603Z",
     "iopub.status.idle": "2021-07-11T04:22:00.354941Z",
     "shell.execute_reply": "2021-07-11T04:22:00.354466Z",
     "shell.execute_reply.started": "2021-07-11T02:29:38.101282Z"
    },
    "papermill": {
     "duration": 0.049791,
     "end_time": "2021-07-11T04:22:00.355104",
     "exception": false,
     "start_time": "2021-07-11T04:22:00.305313",
     "status": "completed"
    },
    "tags": []
   },
   "outputs": [
    {
     "data": {
      "text/html": [
       "<div>\n",
       "<style scoped>\n",
       "    .dataframe tbody tr th:only-of-type {\n",
       "        vertical-align: middle;\n",
       "    }\n",
       "\n",
       "    .dataframe tbody tr th {\n",
       "        vertical-align: top;\n",
       "    }\n",
       "\n",
       "    .dataframe thead th {\n",
       "        text-align: right;\n",
       "    }\n",
       "</style>\n",
       "<table border=\"1\" class=\"dataframe\">\n",
       "  <thead>\n",
       "    <tr style=\"text-align: right;\">\n",
       "      <th></th>\n",
       "      <th>event_time</th>\n",
       "      <th>event_type</th>\n",
       "      <th>price</th>\n",
       "      <th>user_id</th>\n",
       "      <th>user_session</th>\n",
       "    </tr>\n",
       "  </thead>\n",
       "  <tbody>\n",
       "    <tr>\n",
       "      <th>0</th>\n",
       "      <td>2019-10-01 00:00:00 UTC</td>\n",
       "      <td>view</td>\n",
       "      <td>35.79</td>\n",
       "      <td>541312140</td>\n",
       "      <td>72d76fde-8bb3-4e00-8c23-a032dfed738c</td>\n",
       "    </tr>\n",
       "    <tr>\n",
       "      <th>1</th>\n",
       "      <td>2019-10-01 00:00:00 UTC</td>\n",
       "      <td>view</td>\n",
       "      <td>33.20</td>\n",
       "      <td>554748717</td>\n",
       "      <td>9333dfbd-b87a-4708-9857-6336556b0fcc</td>\n",
       "    </tr>\n",
       "    <tr>\n",
       "      <th>2</th>\n",
       "      <td>2019-10-01 00:00:01 UTC</td>\n",
       "      <td>view</td>\n",
       "      <td>543.10</td>\n",
       "      <td>519107250</td>\n",
       "      <td>566511c2-e2e3-422b-b695-cf8e6e792ca8</td>\n",
       "    </tr>\n",
       "    <tr>\n",
       "      <th>3</th>\n",
       "      <td>2019-10-01 00:00:01 UTC</td>\n",
       "      <td>view</td>\n",
       "      <td>251.74</td>\n",
       "      <td>550050854</td>\n",
       "      <td>7c90fc70-0e80-4590-96f3-13c02c18c713</td>\n",
       "    </tr>\n",
       "    <tr>\n",
       "      <th>4</th>\n",
       "      <td>2019-10-01 00:00:04 UTC</td>\n",
       "      <td>view</td>\n",
       "      <td>1081.98</td>\n",
       "      <td>535871217</td>\n",
       "      <td>c6bd7419-2748-4c56-95b4-8cec9ff8b80d</td>\n",
       "    </tr>\n",
       "  </tbody>\n",
       "</table>\n",
       "</div>"
      ],
      "text/plain": [
       "                event_time event_type    price    user_id  \\\n",
       "0  2019-10-01 00:00:00 UTC       view    35.79  541312140   \n",
       "1  2019-10-01 00:00:00 UTC       view    33.20  554748717   \n",
       "2  2019-10-01 00:00:01 UTC       view   543.10  519107250   \n",
       "3  2019-10-01 00:00:01 UTC       view   251.74  550050854   \n",
       "4  2019-10-01 00:00:04 UTC       view  1081.98  535871217   \n",
       "\n",
       "                           user_session  \n",
       "0  72d76fde-8bb3-4e00-8c23-a032dfed738c  \n",
       "1  9333dfbd-b87a-4708-9857-6336556b0fcc  \n",
       "2  566511c2-e2e3-422b-b695-cf8e6e792ca8  \n",
       "3  7c90fc70-0e80-4590-96f3-13c02c18c713  \n",
       "4  c6bd7419-2748-4c56-95b4-8cec9ff8b80d  "
      ]
     },
     "execution_count": 4,
     "metadata": {},
     "output_type": "execute_result"
    }
   ],
   "source": [
    "data_oct.head()"
   ]
  },
  {
   "cell_type": "code",
   "execution_count": 5,
   "id": "61df4fa9",
   "metadata": {
    "execution": {
     "iopub.execute_input": "2021-07-11T04:22:02.851363Z",
     "iopub.status.busy": "2021-07-11T04:22:01.026345Z",
     "iopub.status.idle": "2021-07-11T04:22:03.395758Z",
     "shell.execute_reply": "2021-07-11T04:22:03.394598Z"
    },
    "papermill": {
     "duration": 3.007549,
     "end_time": "2021-07-11T04:22:03.395920",
     "exception": false,
     "start_time": "2021-07-11T04:22:00.388371",
     "status": "completed"
    },
    "tags": []
   },
   "outputs": [
    {
     "data": {
      "text/plain": [
       "array(['view', 'purchase', 'cart'], dtype=object)"
      ]
     },
     "execution_count": 5,
     "metadata": {},
     "output_type": "execute_result"
    }
   ],
   "source": [
    "data_oct['event_type'].unique()"
   ]
  },
  {
   "cell_type": "code",
   "execution_count": 6,
   "id": "34fbde35",
   "metadata": {
    "execution": {
     "iopub.execute_input": "2021-07-11T04:22:03.476545Z",
     "iopub.status.busy": "2021-07-11T04:22:03.475605Z",
     "iopub.status.idle": "2021-07-11T04:22:03.479819Z",
     "shell.execute_reply": "2021-07-11T04:22:03.479269Z",
     "shell.execute_reply.started": "2021-07-11T02:29:40.051117Z"
    },
    "papermill": {
     "duration": 0.049864,
     "end_time": "2021-07-11T04:22:03.479953",
     "exception": false,
     "start_time": "2021-07-11T04:22:03.430089",
     "status": "completed"
    },
    "tags": []
   },
   "outputs": [
    {
     "data": {
      "text/html": [
       "<div>\n",
       "<style scoped>\n",
       "    .dataframe tbody tr th:only-of-type {\n",
       "        vertical-align: middle;\n",
       "    }\n",
       "\n",
       "    .dataframe tbody tr th {\n",
       "        vertical-align: top;\n",
       "    }\n",
       "\n",
       "    .dataframe thead th {\n",
       "        text-align: right;\n",
       "    }\n",
       "</style>\n",
       "<table border=\"1\" class=\"dataframe\">\n",
       "  <thead>\n",
       "    <tr style=\"text-align: right;\">\n",
       "      <th></th>\n",
       "      <th>event_time</th>\n",
       "      <th>event_type</th>\n",
       "      <th>price</th>\n",
       "      <th>user_id</th>\n",
       "      <th>user_session</th>\n",
       "    </tr>\n",
       "  </thead>\n",
       "  <tbody>\n",
       "    <tr>\n",
       "      <th>0</th>\n",
       "      <td>2019-11-01 00:00:00 UTC</td>\n",
       "      <td>view</td>\n",
       "      <td>489.07</td>\n",
       "      <td>520088904</td>\n",
       "      <td>4d3b30da-a5e4-49df-b1a8-ba5943f1dd33</td>\n",
       "    </tr>\n",
       "    <tr>\n",
       "      <th>1</th>\n",
       "      <td>2019-11-01 00:00:00 UTC</td>\n",
       "      <td>view</td>\n",
       "      <td>293.65</td>\n",
       "      <td>530496790</td>\n",
       "      <td>8e5f4f83-366c-4f70-860e-ca7417414283</td>\n",
       "    </tr>\n",
       "    <tr>\n",
       "      <th>2</th>\n",
       "      <td>2019-11-01 00:00:01 UTC</td>\n",
       "      <td>view</td>\n",
       "      <td>28.31</td>\n",
       "      <td>561587266</td>\n",
       "      <td>755422e7-9040-477b-9bd2-6a6e8fd97387</td>\n",
       "    </tr>\n",
       "    <tr>\n",
       "      <th>3</th>\n",
       "      <td>2019-11-01 00:00:01 UTC</td>\n",
       "      <td>view</td>\n",
       "      <td>712.87</td>\n",
       "      <td>518085591</td>\n",
       "      <td>3bfb58cd-7892-48cc-8020-2f17e6de6e7f</td>\n",
       "    </tr>\n",
       "    <tr>\n",
       "      <th>4</th>\n",
       "      <td>2019-11-01 00:00:01 UTC</td>\n",
       "      <td>view</td>\n",
       "      <td>183.27</td>\n",
       "      <td>558856683</td>\n",
       "      <td>313628f1-68b8-460d-84f6-cec7a8796ef2</td>\n",
       "    </tr>\n",
       "  </tbody>\n",
       "</table>\n",
       "</div>"
      ],
      "text/plain": [
       "                event_time event_type   price    user_id  \\\n",
       "0  2019-11-01 00:00:00 UTC       view  489.07  520088904   \n",
       "1  2019-11-01 00:00:00 UTC       view  293.65  530496790   \n",
       "2  2019-11-01 00:00:01 UTC       view   28.31  561587266   \n",
       "3  2019-11-01 00:00:01 UTC       view  712.87  518085591   \n",
       "4  2019-11-01 00:00:01 UTC       view  183.27  558856683   \n",
       "\n",
       "                           user_session  \n",
       "0  4d3b30da-a5e4-49df-b1a8-ba5943f1dd33  \n",
       "1  8e5f4f83-366c-4f70-860e-ca7417414283  \n",
       "2  755422e7-9040-477b-9bd2-6a6e8fd97387  \n",
       "3  3bfb58cd-7892-48cc-8020-2f17e6de6e7f  \n",
       "4  313628f1-68b8-460d-84f6-cec7a8796ef2  "
      ]
     },
     "execution_count": 6,
     "metadata": {},
     "output_type": "execute_result"
    }
   ],
   "source": [
    "data_nov.head()"
   ]
  },
  {
   "cell_type": "code",
   "execution_count": 7,
   "id": "8c97b753",
   "metadata": {
    "execution": {
     "iopub.execute_input": "2021-07-11T04:22:07.446890Z",
     "iopub.status.busy": "2021-07-11T04:22:07.445942Z",
     "iopub.status.idle": "2021-07-11T04:22:08.310320Z",
     "shell.execute_reply": "2021-07-11T04:22:08.309780Z",
     "shell.execute_reply.started": "2021-07-11T03:29:47.073682Z"
    },
    "papermill": {
     "duration": 4.796069,
     "end_time": "2021-07-11T04:22:08.310467",
     "exception": false,
     "start_time": "2021-07-11T04:22:03.514398",
     "status": "completed"
    },
    "tags": []
   },
   "outputs": [
    {
     "data": {
      "text/plain": [
       "array(['view', 'cart', 'purchase'], dtype=object)"
      ]
     },
     "execution_count": 7,
     "metadata": {},
     "output_type": "execute_result"
    }
   ],
   "source": [
    "data_nov['event_type'].unique()"
   ]
  },
  {
   "cell_type": "markdown",
   "id": "6c9c8539",
   "metadata": {
    "papermill": {
     "duration": 0.03429,
     "end_time": "2021-07-11T04:22:08.379359",
     "exception": false,
     "start_time": "2021-07-11T04:22:08.345069",
     "status": "completed"
    },
    "tags": []
   },
   "source": [
    "**Column event type have view, cart, and purchase but we only need purchase data so use .loc to get only purchase data**"
   ]
  },
  {
   "cell_type": "code",
   "execution_count": 8,
   "id": "df86951c",
   "metadata": {
    "execution": {
     "iopub.execute_input": "2021-07-11T04:22:14.213466Z",
     "iopub.status.busy": "2021-07-11T04:22:14.212214Z",
     "iopub.status.idle": "2021-07-11T04:22:24.226094Z",
     "shell.execute_reply": "2021-07-11T04:22:24.225523Z",
     "shell.execute_reply.started": "2021-07-11T02:29:56.471875Z"
    },
    "papermill": {
     "duration": 15.812468,
     "end_time": "2021-07-11T04:22:24.226253",
     "exception": false,
     "start_time": "2021-07-11T04:22:08.413785",
     "status": "completed"
    },
    "tags": []
   },
   "outputs": [],
   "source": [
    "data_oct=data_oct.loc[data_oct.event_type == 'purchase']\n",
    "data_nov=data_nov.loc[data_nov.event_type == 'purchase']"
   ]
  },
  {
   "cell_type": "markdown",
   "id": "1a450dad",
   "metadata": {
    "papermill": {
     "duration": 0.034204,
     "end_time": "2021-07-11T04:22:24.294944",
     "exception": false,
     "start_time": "2021-07-11T04:22:24.260740",
     "status": "completed"
    },
    "tags": []
   },
   "source": [
    "**Then union October and November data**"
   ]
  },
  {
   "cell_type": "code",
   "execution_count": 9,
   "id": "687df2a3",
   "metadata": {
    "execution": {
     "iopub.execute_input": "2021-07-11T04:22:24.370306Z",
     "iopub.status.busy": "2021-07-11T04:22:24.369651Z",
     "iopub.status.idle": "2021-07-11T04:22:24.596025Z",
     "shell.execute_reply": "2021-07-11T04:22:24.594769Z",
     "shell.execute_reply.started": "2021-07-11T02:30:21.800541Z"
    },
    "papermill": {
     "duration": 0.266745,
     "end_time": "2021-07-11T04:22:24.596182",
     "exception": false,
     "start_time": "2021-07-11T04:22:24.329437",
     "status": "completed"
    },
    "tags": []
   },
   "outputs": [],
   "source": [
    "frames = [data_oct, data_nov]\n",
    "data=pd.concat(frames)"
   ]
  },
  {
   "cell_type": "code",
   "execution_count": 10,
   "id": "e03ed86b",
   "metadata": {
    "execution": {
     "iopub.execute_input": "2021-07-11T04:22:24.679049Z",
     "iopub.status.busy": "2021-07-11T04:22:24.678409Z",
     "iopub.status.idle": "2021-07-11T04:22:24.682640Z",
     "shell.execute_reply": "2021-07-11T04:22:24.682156Z",
     "shell.execute_reply.started": "2021-07-11T03:37:55.531525Z"
    },
    "papermill": {
     "duration": 0.051732,
     "end_time": "2021-07-11T04:22:24.682779",
     "exception": false,
     "start_time": "2021-07-11T04:22:24.631047",
     "status": "completed"
    },
    "tags": []
   },
   "outputs": [
    {
     "data": {
      "text/html": [
       "<div>\n",
       "<style scoped>\n",
       "    .dataframe tbody tr th:only-of-type {\n",
       "        vertical-align: middle;\n",
       "    }\n",
       "\n",
       "    .dataframe tbody tr th {\n",
       "        vertical-align: top;\n",
       "    }\n",
       "\n",
       "    .dataframe thead th {\n",
       "        text-align: right;\n",
       "    }\n",
       "</style>\n",
       "<table border=\"1\" class=\"dataframe\">\n",
       "  <thead>\n",
       "    <tr style=\"text-align: right;\">\n",
       "      <th></th>\n",
       "      <th>event_time</th>\n",
       "      <th>event_type</th>\n",
       "      <th>price</th>\n",
       "      <th>user_id</th>\n",
       "      <th>user_session</th>\n",
       "    </tr>\n",
       "  </thead>\n",
       "  <tbody>\n",
       "    <tr>\n",
       "      <th>162</th>\n",
       "      <td>2019-10-01 00:02:14 UTC</td>\n",
       "      <td>purchase</td>\n",
       "      <td>130.76</td>\n",
       "      <td>543272936</td>\n",
       "      <td>8187d148-3c41-46d4-b0c0-9c08cd9dc564</td>\n",
       "    </tr>\n",
       "    <tr>\n",
       "      <th>308</th>\n",
       "      <td>2019-10-01 00:04:37 UTC</td>\n",
       "      <td>purchase</td>\n",
       "      <td>642.69</td>\n",
       "      <td>551377651</td>\n",
       "      <td>3c80f0d6-e9ec-4181-8c5c-837a30be2d68</td>\n",
       "    </tr>\n",
       "    <tr>\n",
       "      <th>379</th>\n",
       "      <td>2019-10-01 00:06:02 UTC</td>\n",
       "      <td>purchase</td>\n",
       "      <td>29.51</td>\n",
       "      <td>514591159</td>\n",
       "      <td>0e5dfc4b-2a55-43e6-8c05-97e1f07fbb56</td>\n",
       "    </tr>\n",
       "    <tr>\n",
       "      <th>442</th>\n",
       "      <td>2019-10-01 00:07:07 UTC</td>\n",
       "      <td>purchase</td>\n",
       "      <td>54.42</td>\n",
       "      <td>555332717</td>\n",
       "      <td>1dea3ee2-2ded-42e8-8e7a-4e2ad6ae942f</td>\n",
       "    </tr>\n",
       "    <tr>\n",
       "      <th>574</th>\n",
       "      <td>2019-10-01 00:09:26 UTC</td>\n",
       "      <td>purchase</td>\n",
       "      <td>189.91</td>\n",
       "      <td>524601178</td>\n",
       "      <td>2af9b570-0942-4dcd-8f25-4d84fba82553</td>\n",
       "    </tr>\n",
       "  </tbody>\n",
       "</table>\n",
       "</div>"
      ],
      "text/plain": [
       "                  event_time event_type   price    user_id  \\\n",
       "162  2019-10-01 00:02:14 UTC   purchase  130.76  543272936   \n",
       "308  2019-10-01 00:04:37 UTC   purchase  642.69  551377651   \n",
       "379  2019-10-01 00:06:02 UTC   purchase   29.51  514591159   \n",
       "442  2019-10-01 00:07:07 UTC   purchase   54.42  555332717   \n",
       "574  2019-10-01 00:09:26 UTC   purchase  189.91  524601178   \n",
       "\n",
       "                             user_session  \n",
       "162  8187d148-3c41-46d4-b0c0-9c08cd9dc564  \n",
       "308  3c80f0d6-e9ec-4181-8c5c-837a30be2d68  \n",
       "379  0e5dfc4b-2a55-43e6-8c05-97e1f07fbb56  \n",
       "442  1dea3ee2-2ded-42e8-8e7a-4e2ad6ae942f  \n",
       "574  2af9b570-0942-4dcd-8f25-4d84fba82553  "
      ]
     },
     "execution_count": 10,
     "metadata": {},
     "output_type": "execute_result"
    }
   ],
   "source": [
    "data.head()"
   ]
  },
  {
   "cell_type": "code",
   "execution_count": 11,
   "id": "817d2a64",
   "metadata": {
    "execution": {
     "iopub.execute_input": "2021-07-11T04:22:24.764691Z",
     "iopub.status.busy": "2021-07-11T04:22:24.764001Z",
     "iopub.status.idle": "2021-07-11T04:26:19.562738Z",
     "shell.execute_reply": "2021-07-11T04:26:19.563557Z",
     "shell.execute_reply.started": "2021-07-11T02:45:16.704611Z"
    },
    "id": "C-HD91-SJC4U",
    "papermill": {
     "duration": 234.845844,
     "end_time": "2021-07-11T04:26:19.564022",
     "exception": false,
     "start_time": "2021-07-11T04:22:24.718178",
     "status": "completed"
    },
    "tags": []
   },
   "outputs": [
    {
     "name": "stdout",
     "output_type": "stream",
     "text": [
      "CPU times: user 3min 54s, sys: 28.6 ms, total: 3min 54s\n",
      "Wall time: 3min 54s\n"
     ]
    }
   ],
   "source": [
    "%%time\n",
    "data['event_time']=pd.to_datetime(data['event_time']).dt.tz_convert(None)"
   ]
  },
  {
   "cell_type": "code",
   "execution_count": 12,
   "id": "7ce8eda6",
   "metadata": {
    "execution": {
     "iopub.execute_input": "2021-07-11T04:26:19.649887Z",
     "iopub.status.busy": "2021-07-11T04:26:19.648891Z",
     "iopub.status.idle": "2021-07-11T04:26:19.653611Z",
     "shell.execute_reply": "2021-07-11T04:26:19.654165Z",
     "shell.execute_reply.started": "2021-07-11T03:38:03.521696Z"
    },
    "papermill": {
     "duration": 0.053099,
     "end_time": "2021-07-11T04:26:19.654335",
     "exception": false,
     "start_time": "2021-07-11T04:26:19.601236",
     "status": "completed"
    },
    "tags": []
   },
   "outputs": [
    {
     "data": {
      "text/plain": [
       "event_time      datetime64[ns]\n",
       "event_type              object\n",
       "price                  float64\n",
       "user_id                  int64\n",
       "user_session            object\n",
       "dtype: object"
      ]
     },
     "execution_count": 12,
     "metadata": {},
     "output_type": "execute_result"
    }
   ],
   "source": [
    "data.dtypes"
   ]
  },
  {
   "cell_type": "markdown",
   "id": "2950cdd3",
   "metadata": {
    "papermill": {
     "duration": 0.036452,
     "end_time": "2021-07-11T04:26:19.726946",
     "exception": false,
     "start_time": "2021-07-11T04:26:19.690494",
     "status": "completed"
    },
    "tags": []
   },
   "source": []
  },
  {
   "cell_type": "code",
   "execution_count": 13,
   "id": "7e0a0bbe",
   "metadata": {
    "execution": {
     "iopub.execute_input": "2021-07-11T04:26:19.803601Z",
     "iopub.status.busy": "2021-07-11T04:26:19.802588Z",
     "iopub.status.idle": "2021-07-11T04:26:21.397695Z",
     "shell.execute_reply": "2021-07-11T04:26:21.397137Z",
     "shell.execute_reply.started": "2021-07-11T02:50:57.731397Z"
    },
    "id": "f8rn5ReMJC4U",
    "outputId": "defe88ba-9306-4fea-d45f-63917eef8ca0",
    "papermill": {
     "duration": 1.635037,
     "end_time": "2021-07-11T04:26:21.397834",
     "exception": false,
     "start_time": "2021-07-11T04:26:19.762797",
     "status": "completed"
    },
    "tags": []
   },
   "outputs": [
    {
     "name": "stdout",
     "output_type": "stream",
     "text": [
      "CPU times: user 1.39 s, sys: 371 ms, total: 1.76 s\n",
      "Wall time: 1.59 s\n"
     ]
    }
   ],
   "source": [
    "%%time\n",
    "#save dataframe as feather in case our notebook got crashed\n",
    "#feather save column data types\n",
    "import pyarrow.feather as feather\n",
    "os.makedirs('tmp', exist_ok=True)  # Make a temp dir for storing the feather file\n",
    "feather.write_feather(data, './tmp/data')"
   ]
  },
  {
   "cell_type": "code",
   "execution_count": 14,
   "id": "b8c5d833",
   "metadata": {
    "execution": {
     "iopub.execute_input": "2021-07-11T04:26:21.477409Z",
     "iopub.status.busy": "2021-07-11T04:26:21.476773Z",
     "iopub.status.idle": "2021-07-11T04:26:22.802943Z",
     "shell.execute_reply": "2021-07-11T04:26:22.803675Z",
     "shell.execute_reply.started": "2021-07-11T03:37:50.662147Z"
    },
    "papermill": {
     "duration": 1.36922,
     "end_time": "2021-07-11T04:26:22.803901",
     "exception": false,
     "start_time": "2021-07-11T04:26:21.434681",
     "status": "completed"
    },
    "tags": []
   },
   "outputs": [
    {
     "name": "stdout",
     "output_type": "stream",
     "text": [
      "CPU times: user 609 ms, sys: 847 ms, total: 1.46 s\n",
      "Wall time: 1.3 s\n"
     ]
    },
    {
     "data": {
      "text/html": [
       "<div>\n",
       "<style scoped>\n",
       "    .dataframe tbody tr th:only-of-type {\n",
       "        vertical-align: middle;\n",
       "    }\n",
       "\n",
       "    .dataframe tbody tr th {\n",
       "        vertical-align: top;\n",
       "    }\n",
       "\n",
       "    .dataframe thead th {\n",
       "        text-align: right;\n",
       "    }\n",
       "</style>\n",
       "<table border=\"1\" class=\"dataframe\">\n",
       "  <thead>\n",
       "    <tr style=\"text-align: right;\">\n",
       "      <th></th>\n",
       "      <th>event_time</th>\n",
       "      <th>event_type</th>\n",
       "      <th>price</th>\n",
       "      <th>user_id</th>\n",
       "      <th>user_session</th>\n",
       "    </tr>\n",
       "  </thead>\n",
       "  <tbody>\n",
       "    <tr>\n",
       "      <th>0</th>\n",
       "      <td>2019-10-01 00:02:14</td>\n",
       "      <td>purchase</td>\n",
       "      <td>130.76</td>\n",
       "      <td>543272936</td>\n",
       "      <td>8187d148-3c41-46d4-b0c0-9c08cd9dc564</td>\n",
       "    </tr>\n",
       "    <tr>\n",
       "      <th>1</th>\n",
       "      <td>2019-10-01 00:04:37</td>\n",
       "      <td>purchase</td>\n",
       "      <td>642.69</td>\n",
       "      <td>551377651</td>\n",
       "      <td>3c80f0d6-e9ec-4181-8c5c-837a30be2d68</td>\n",
       "    </tr>\n",
       "    <tr>\n",
       "      <th>2</th>\n",
       "      <td>2019-10-01 00:06:02</td>\n",
       "      <td>purchase</td>\n",
       "      <td>29.51</td>\n",
       "      <td>514591159</td>\n",
       "      <td>0e5dfc4b-2a55-43e6-8c05-97e1f07fbb56</td>\n",
       "    </tr>\n",
       "    <tr>\n",
       "      <th>3</th>\n",
       "      <td>2019-10-01 00:07:07</td>\n",
       "      <td>purchase</td>\n",
       "      <td>54.42</td>\n",
       "      <td>555332717</td>\n",
       "      <td>1dea3ee2-2ded-42e8-8e7a-4e2ad6ae942f</td>\n",
       "    </tr>\n",
       "    <tr>\n",
       "      <th>4</th>\n",
       "      <td>2019-10-01 00:09:26</td>\n",
       "      <td>purchase</td>\n",
       "      <td>189.91</td>\n",
       "      <td>524601178</td>\n",
       "      <td>2af9b570-0942-4dcd-8f25-4d84fba82553</td>\n",
       "    </tr>\n",
       "    <tr>\n",
       "      <th>...</th>\n",
       "      <td>...</td>\n",
       "      <td>...</td>\n",
       "      <td>...</td>\n",
       "      <td>...</td>\n",
       "      <td>...</td>\n",
       "    </tr>\n",
       "    <tr>\n",
       "      <th>1659783</th>\n",
       "      <td>2019-11-30 23:58:14</td>\n",
       "      <td>purchase</td>\n",
       "      <td>346.70</td>\n",
       "      <td>547804983</td>\n",
       "      <td>717566cf-ef93-4078-ba8f-169a3ac9f1a0</td>\n",
       "    </tr>\n",
       "    <tr>\n",
       "      <th>1659784</th>\n",
       "      <td>2019-11-30 23:58:22</td>\n",
       "      <td>purchase</td>\n",
       "      <td>1437.02</td>\n",
       "      <td>515582054</td>\n",
       "      <td>829c20b5-696e-4a8a-8a9f-171014a3ecbe</td>\n",
       "    </tr>\n",
       "    <tr>\n",
       "      <th>1659785</th>\n",
       "      <td>2019-11-30 23:58:57</td>\n",
       "      <td>purchase</td>\n",
       "      <td>235.60</td>\n",
       "      <td>579876821</td>\n",
       "      <td>ca50e291-43f3-4ca2-9e13-20ee6b8b25f0</td>\n",
       "    </tr>\n",
       "    <tr>\n",
       "      <th>1659786</th>\n",
       "      <td>2019-11-30 23:59:15</td>\n",
       "      <td>purchase</td>\n",
       "      <td>89.32</td>\n",
       "      <td>543733099</td>\n",
       "      <td>a65116f4-ac53-4a41-ad68-6606788e674c</td>\n",
       "    </tr>\n",
       "    <tr>\n",
       "      <th>1659787</th>\n",
       "      <td>2019-11-30 23:59:44</td>\n",
       "      <td>purchase</td>\n",
       "      <td>179.16</td>\n",
       "      <td>553345124</td>\n",
       "      <td>58c692ff-c7a9-4e35-9ec4-58598f1940e0</td>\n",
       "    </tr>\n",
       "  </tbody>\n",
       "</table>\n",
       "<p>1659788 rows × 5 columns</p>\n",
       "</div>"
      ],
      "text/plain": [
       "                 event_time event_type    price    user_id  \\\n",
       "0       2019-10-01 00:02:14   purchase   130.76  543272936   \n",
       "1       2019-10-01 00:04:37   purchase   642.69  551377651   \n",
       "2       2019-10-01 00:06:02   purchase    29.51  514591159   \n",
       "3       2019-10-01 00:07:07   purchase    54.42  555332717   \n",
       "4       2019-10-01 00:09:26   purchase   189.91  524601178   \n",
       "...                     ...        ...      ...        ...   \n",
       "1659783 2019-11-30 23:58:14   purchase   346.70  547804983   \n",
       "1659784 2019-11-30 23:58:22   purchase  1437.02  515582054   \n",
       "1659785 2019-11-30 23:58:57   purchase   235.60  579876821   \n",
       "1659786 2019-11-30 23:59:15   purchase    89.32  543733099   \n",
       "1659787 2019-11-30 23:59:44   purchase   179.16  553345124   \n",
       "\n",
       "                                 user_session  \n",
       "0        8187d148-3c41-46d4-b0c0-9c08cd9dc564  \n",
       "1        3c80f0d6-e9ec-4181-8c5c-837a30be2d68  \n",
       "2        0e5dfc4b-2a55-43e6-8c05-97e1f07fbb56  \n",
       "3        1dea3ee2-2ded-42e8-8e7a-4e2ad6ae942f  \n",
       "4        2af9b570-0942-4dcd-8f25-4d84fba82553  \n",
       "...                                       ...  \n",
       "1659783  717566cf-ef93-4078-ba8f-169a3ac9f1a0  \n",
       "1659784  829c20b5-696e-4a8a-8a9f-171014a3ecbe  \n",
       "1659785  ca50e291-43f3-4ca2-9e13-20ee6b8b25f0  \n",
       "1659786  a65116f4-ac53-4a41-ad68-6606788e674c  \n",
       "1659787  58c692ff-c7a9-4e35-9ec4-58598f1940e0  \n",
       "\n",
       "[1659788 rows x 5 columns]"
      ]
     },
     "execution_count": 14,
     "metadata": {},
     "output_type": "execute_result"
    }
   ],
   "source": [
    "%%time\n",
    "#load the feather data cause feather more lightweight\n",
    "data = pd.read_feather('./tmp/data')\n",
    "data"
   ]
  },
  {
   "cell_type": "code",
   "execution_count": 15,
   "id": "9b69ba36",
   "metadata": {
    "execution": {
     "iopub.execute_input": "2021-07-11T04:26:22.885210Z",
     "iopub.status.busy": "2021-07-11T04:26:22.884484Z",
     "iopub.status.idle": "2021-07-11T04:26:22.888449Z",
     "shell.execute_reply": "2021-07-11T04:26:22.888927Z",
     "shell.execute_reply.started": "2021-07-11T02:51:21.580865Z"
    },
    "papermill": {
     "duration": 0.04785,
     "end_time": "2021-07-11T04:26:22.889115",
     "exception": false,
     "start_time": "2021-07-11T04:26:22.841265",
     "status": "completed"
    },
    "tags": []
   },
   "outputs": [
    {
     "data": {
      "text/plain": [
       "event_time      datetime64[ns]\n",
       "event_type              object\n",
       "price                  float64\n",
       "user_id                  int64\n",
       "user_session            object\n",
       "dtype: object"
      ]
     },
     "execution_count": 15,
     "metadata": {},
     "output_type": "execute_result"
    }
   ],
   "source": [
    "data.dtypes"
   ]
  },
  {
   "cell_type": "markdown",
   "id": "d9f23331",
   "metadata": {
    "papermill": {
     "duration": 0.037028,
     "end_time": "2021-07-11T04:26:22.965310",
     "exception": false,
     "start_time": "2021-07-11T04:26:22.928282",
     "status": "completed"
    },
    "tags": []
   },
   "source": [
    "we can see that each session is equal to 1 transaction in terms of sessions being multiples with every product sold\n",
    "so we need to merge every session together "
   ]
  },
  {
   "cell_type": "code",
   "execution_count": 16,
   "id": "c12da77e",
   "metadata": {
    "execution": {
     "iopub.execute_input": "2021-07-11T04:26:23.090158Z",
     "iopub.status.busy": "2021-07-11T04:26:23.089048Z",
     "iopub.status.idle": "2021-07-11T04:29:47.724187Z",
     "shell.execute_reply": "2021-07-11T04:29:47.724745Z",
     "shell.execute_reply.started": "2021-07-11T03:44:07.882486Z"
    },
    "id": "DYd9loZJJC4X",
    "outputId": "203c4601-0197-4a4b-87ec-a45eeed3a030",
    "papermill": {
     "duration": 204.721068,
     "end_time": "2021-07-11T04:29:47.725017",
     "exception": false,
     "start_time": "2021-07-11T04:26:23.003949",
     "status": "completed"
    },
    "tags": []
   },
   "outputs": [
    {
     "data": {
      "text/html": [
       "<div>\n",
       "<style scoped>\n",
       "    .dataframe tbody tr th:only-of-type {\n",
       "        vertical-align: middle;\n",
       "    }\n",
       "\n",
       "    .dataframe tbody tr th {\n",
       "        vertical-align: top;\n",
       "    }\n",
       "\n",
       "    .dataframe thead th {\n",
       "        text-align: right;\n",
       "    }\n",
       "</style>\n",
       "<table border=\"1\" class=\"dataframe\">\n",
       "  <thead>\n",
       "    <tr style=\"text-align: right;\">\n",
       "      <th></th>\n",
       "      <th>Date_order</th>\n",
       "      <th>user_id</th>\n",
       "      <th>Quantity</th>\n",
       "      <th>money_spent</th>\n",
       "    </tr>\n",
       "  </thead>\n",
       "  <tbody>\n",
       "    <tr>\n",
       "      <th>0</th>\n",
       "      <td>2019-10-06 11:34:30</td>\n",
       "      <td>546521725</td>\n",
       "      <td>1</td>\n",
       "      <td>289.52</td>\n",
       "    </tr>\n",
       "    <tr>\n",
       "      <th>1</th>\n",
       "      <td>2019-10-25 08:39:11</td>\n",
       "      <td>560486342</td>\n",
       "      <td>1</td>\n",
       "      <td>171.90</td>\n",
       "    </tr>\n",
       "    <tr>\n",
       "      <th>2</th>\n",
       "      <td>2019-11-02 08:35:35</td>\n",
       "      <td>563180871</td>\n",
       "      <td>1</td>\n",
       "      <td>123.55</td>\n",
       "    </tr>\n",
       "    <tr>\n",
       "      <th>3</th>\n",
       "      <td>2019-11-11 03:35:34</td>\n",
       "      <td>566954797</td>\n",
       "      <td>1</td>\n",
       "      <td>151.61</td>\n",
       "    </tr>\n",
       "    <tr>\n",
       "      <th>4</th>\n",
       "      <td>2019-10-17 13:37:59</td>\n",
       "      <td>560744406</td>\n",
       "      <td>2</td>\n",
       "      <td>379.78</td>\n",
       "    </tr>\n",
       "    <tr>\n",
       "      <th>...</th>\n",
       "      <td>...</td>\n",
       "      <td>...</td>\n",
       "      <td>...</td>\n",
       "      <td>...</td>\n",
       "    </tr>\n",
       "    <tr>\n",
       "      <th>1402753</th>\n",
       "      <td>2019-11-18 11:20:56</td>\n",
       "      <td>519523637</td>\n",
       "      <td>1</td>\n",
       "      <td>45.03</td>\n",
       "    </tr>\n",
       "    <tr>\n",
       "      <th>1402754</th>\n",
       "      <td>2019-11-17 10:59:07</td>\n",
       "      <td>523658055</td>\n",
       "      <td>1</td>\n",
       "      <td>32.15</td>\n",
       "    </tr>\n",
       "    <tr>\n",
       "      <th>1402755</th>\n",
       "      <td>2019-11-25 10:56:59</td>\n",
       "      <td>518862395</td>\n",
       "      <td>2</td>\n",
       "      <td>163.19</td>\n",
       "    </tr>\n",
       "    <tr>\n",
       "      <th>1402756</th>\n",
       "      <td>2019-11-17 05:52:00</td>\n",
       "      <td>571263795</td>\n",
       "      <td>2</td>\n",
       "      <td>66.64</td>\n",
       "    </tr>\n",
       "    <tr>\n",
       "      <th>1402757</th>\n",
       "      <td>2019-11-17 14:12:02</td>\n",
       "      <td>519073108</td>\n",
       "      <td>1</td>\n",
       "      <td>128.42</td>\n",
       "    </tr>\n",
       "  </tbody>\n",
       "</table>\n",
       "<p>1402758 rows × 4 columns</p>\n",
       "</div>"
      ],
      "text/plain": [
       "                 Date_order    user_id  Quantity  money_spent\n",
       "0       2019-10-06 11:34:30  546521725         1       289.52\n",
       "1       2019-10-25 08:39:11  560486342         1       171.90\n",
       "2       2019-11-02 08:35:35  563180871         1       123.55\n",
       "3       2019-11-11 03:35:34  566954797         1       151.61\n",
       "4       2019-10-17 13:37:59  560744406         2       379.78\n",
       "...                     ...        ...       ...          ...\n",
       "1402753 2019-11-18 11:20:56  519523637         1        45.03\n",
       "1402754 2019-11-17 10:59:07  523658055         1        32.15\n",
       "1402755 2019-11-25 10:56:59  518862395         2       163.19\n",
       "1402756 2019-11-17 05:52:00  571263795         2        66.64\n",
       "1402757 2019-11-17 14:12:02  519073108         1       128.42\n",
       "\n",
       "[1402758 rows x 4 columns]"
      ]
     },
     "execution_count": 16,
     "metadata": {},
     "output_type": "execute_result"
    }
   ],
   "source": [
    "data=data.groupby(by='user_session').agg(Date_order=('event_time',lambda x: x.max()),\n",
    "                                                  user_id=('user_id',lambda x: x.unique()),\n",
    "                                          Quantity=('user_session','count'),\n",
    "                                         money_spent=('price','sum')).reset_index(drop=True)\n",
    "data"
   ]
  },
  {
   "cell_type": "markdown",
   "id": "835c1b7e",
   "metadata": {
    "papermill": {
     "duration": 0.039469,
     "end_time": "2021-07-11T04:29:47.802655",
     "exception": false,
     "start_time": "2021-07-11T04:29:47.763186",
     "status": "completed"
    },
    "tags": []
   },
   "source": [
    "# **RFM Analysis**"
   ]
  },
  {
   "cell_type": "markdown",
   "id": "1ddee3a9",
   "metadata": {
    "papermill": {
     "duration": 0.037738,
     "end_time": "2021-07-11T04:29:47.880832",
     "exception": false,
     "start_time": "2021-07-11T04:29:47.843094",
     "status": "completed"
    },
    "tags": []
   },
   "source": [
    "RFM is a method used for analyzing customer value. It is commonly used in database marketing and direct marketing and has received particular attention in retail and professional services industries.\n",
    "\n",
    "RFM stands for the three dimensions:\n",
    "\n",
    "* Recency – How recently did the customer purchase?\n",
    "* Frequency – How often do they purchase?\n",
    "* Monetary Value – How much do they spend?\n",
    "\n",
    "\n",
    "\n",
    "so we will make that 3 attribute Recency, Frequency, and Monetary"
   ]
  },
  {
   "cell_type": "code",
   "execution_count": 17,
   "id": "8d037ffb",
   "metadata": {
    "execution": {
     "iopub.execute_input": "2021-07-11T04:29:47.964374Z",
     "iopub.status.busy": "2021-07-11T04:29:47.963649Z",
     "iopub.status.idle": "2021-07-11T04:29:47.977044Z",
     "shell.execute_reply": "2021-07-11T04:29:47.976284Z",
     "shell.execute_reply.started": "2021-07-11T03:48:46.780797Z"
    },
    "papermill": {
     "duration": 0.057645,
     "end_time": "2021-07-11T04:29:47.977190",
     "exception": false,
     "start_time": "2021-07-11T04:29:47.919545",
     "status": "completed"
    },
    "tags": []
   },
   "outputs": [
    {
     "data": {
      "text/plain": [
       "Timestamp('2019-11-30 23:59:44')"
      ]
     },
     "execution_count": 17,
     "metadata": {},
     "output_type": "execute_result"
    }
   ],
   "source": [
    "data['Date_order'].max()"
   ]
  },
  {
   "cell_type": "markdown",
   "id": "935decc5",
   "metadata": {
    "papermill": {
     "duration": 0.038339,
     "end_time": "2021-07-11T04:29:48.054906",
     "exception": false,
     "start_time": "2021-07-11T04:29:48.016567",
     "status": "completed"
    },
    "tags": []
   },
   "source": [
    "The last date we have is 2019-11-30 so we will use date 2019-12-1 as reference\n"
   ]
  },
  {
   "cell_type": "code",
   "execution_count": 18,
   "id": "76f80c74",
   "metadata": {
    "execution": {
     "iopub.execute_input": "2021-07-11T04:29:48.139328Z",
     "iopub.status.busy": "2021-07-11T04:29:48.138603Z",
     "iopub.status.idle": "2021-07-11T04:29:48.193466Z",
     "shell.execute_reply": "2021-07-11T04:29:48.192768Z",
     "shell.execute_reply.started": "2021-07-11T03:50:38.703183Z"
    },
    "papermill": {
     "duration": 0.100309,
     "end_time": "2021-07-11T04:29:48.193607",
     "exception": false,
     "start_time": "2021-07-11T04:29:48.093298",
     "status": "completed"
    },
    "tags": []
   },
   "outputs": [
    {
     "data": {
      "text/html": [
       "<div>\n",
       "<style scoped>\n",
       "    .dataframe tbody tr th:only-of-type {\n",
       "        vertical-align: middle;\n",
       "    }\n",
       "\n",
       "    .dataframe tbody tr th {\n",
       "        vertical-align: top;\n",
       "    }\n",
       "\n",
       "    .dataframe thead th {\n",
       "        text-align: right;\n",
       "    }\n",
       "</style>\n",
       "<table border=\"1\" class=\"dataframe\">\n",
       "  <thead>\n",
       "    <tr style=\"text-align: right;\">\n",
       "      <th></th>\n",
       "      <th>Date_order</th>\n",
       "      <th>user_id</th>\n",
       "      <th>Quantity</th>\n",
       "      <th>money_spent</th>\n",
       "      <th>last_purchase</th>\n",
       "    </tr>\n",
       "  </thead>\n",
       "  <tbody>\n",
       "    <tr>\n",
       "      <th>0</th>\n",
       "      <td>2019-10-06 11:34:30</td>\n",
       "      <td>546521725</td>\n",
       "      <td>1</td>\n",
       "      <td>289.52</td>\n",
       "      <td>55.517708</td>\n",
       "    </tr>\n",
       "    <tr>\n",
       "      <th>1</th>\n",
       "      <td>2019-10-25 08:39:11</td>\n",
       "      <td>560486342</td>\n",
       "      <td>1</td>\n",
       "      <td>171.90</td>\n",
       "      <td>36.639456</td>\n",
       "    </tr>\n",
       "    <tr>\n",
       "      <th>2</th>\n",
       "      <td>2019-11-02 08:35:35</td>\n",
       "      <td>563180871</td>\n",
       "      <td>1</td>\n",
       "      <td>123.55</td>\n",
       "      <td>28.641956</td>\n",
       "    </tr>\n",
       "    <tr>\n",
       "      <th>3</th>\n",
       "      <td>2019-11-11 03:35:34</td>\n",
       "      <td>566954797</td>\n",
       "      <td>1</td>\n",
       "      <td>151.61</td>\n",
       "      <td>19.850301</td>\n",
       "    </tr>\n",
       "    <tr>\n",
       "      <th>4</th>\n",
       "      <td>2019-10-17 13:37:59</td>\n",
       "      <td>560744406</td>\n",
       "      <td>2</td>\n",
       "      <td>379.78</td>\n",
       "      <td>44.431956</td>\n",
       "    </tr>\n",
       "  </tbody>\n",
       "</table>\n",
       "</div>"
      ],
      "text/plain": [
       "           Date_order    user_id  Quantity  money_spent  last_purchase\n",
       "0 2019-10-06 11:34:30  546521725         1       289.52      55.517708\n",
       "1 2019-10-25 08:39:11  560486342         1       171.90      36.639456\n",
       "2 2019-11-02 08:35:35  563180871         1       123.55      28.641956\n",
       "3 2019-11-11 03:35:34  566954797         1       151.61      19.850301\n",
       "4 2019-10-17 13:37:59  560744406         2       379.78      44.431956"
      ]
     },
     "execution_count": 18,
     "metadata": {},
     "output_type": "execute_result"
    }
   ],
   "source": [
    "import datetime as dt\n",
    "study_date = dt.datetime(2019,12,1)\n",
    "data=pd.DataFrame(data)\n",
    "data['last_purchase']=study_date - data['Date_order']\n",
    "data['last_purchase'].astype('timedelta64[D]')\n",
    "data['last_purchase']=data['last_purchase'] / np.timedelta64(1, 'D')\n",
    "data.head()\n"
   ]
  },
  {
   "cell_type": "code",
   "execution_count": 19,
   "id": "404dfa35",
   "metadata": {
    "execution": {
     "iopub.execute_input": "2021-07-11T04:29:48.283127Z",
     "iopub.status.busy": "2021-07-11T04:29:48.282438Z",
     "iopub.status.idle": "2021-07-11T04:31:35.108685Z",
     "shell.execute_reply": "2021-07-11T04:31:35.109212Z",
     "shell.execute_reply.started": "2021-07-11T03:50:41.241865Z"
    },
    "id": "7-6DRqFalaII",
    "outputId": "cc601574-b653-42e0-8356-29cd03936c36",
    "papermill": {
     "duration": 106.875524,
     "end_time": "2021-07-11T04:31:35.109402",
     "exception": false,
     "start_time": "2021-07-11T04:29:48.233878",
     "status": "completed"
    },
    "tags": []
   },
   "outputs": [
    {
     "data": {
      "text/html": [
       "<div>\n",
       "<style scoped>\n",
       "    .dataframe tbody tr th:only-of-type {\n",
       "        vertical-align: middle;\n",
       "    }\n",
       "\n",
       "    .dataframe tbody tr th {\n",
       "        vertical-align: top;\n",
       "    }\n",
       "\n",
       "    .dataframe thead th {\n",
       "        text-align: right;\n",
       "    }\n",
       "</style>\n",
       "<table border=\"1\" class=\"dataframe\">\n",
       "  <thead>\n",
       "    <tr style=\"text-align: right;\">\n",
       "      <th></th>\n",
       "      <th>Recency</th>\n",
       "      <th>Frequency</th>\n",
       "      <th>Monetary</th>\n",
       "    </tr>\n",
       "    <tr>\n",
       "      <th>user_id</th>\n",
       "      <th></th>\n",
       "      <th></th>\n",
       "      <th></th>\n",
       "    </tr>\n",
       "  </thead>\n",
       "  <tbody>\n",
       "    <tr>\n",
       "      <th>138340325</th>\n",
       "      <td>19.758866</td>\n",
       "      <td>1</td>\n",
       "      <td>93.50</td>\n",
       "    </tr>\n",
       "    <tr>\n",
       "      <th>225644257</th>\n",
       "      <td>18.819780</td>\n",
       "      <td>1</td>\n",
       "      <td>40.91</td>\n",
       "    </tr>\n",
       "    <tr>\n",
       "      <th>253299396</th>\n",
       "      <td>24.546169</td>\n",
       "      <td>1</td>\n",
       "      <td>246.85</td>\n",
       "    </tr>\n",
       "    <tr>\n",
       "      <th>256164170</th>\n",
       "      <td>10.651921</td>\n",
       "      <td>1</td>\n",
       "      <td>113.23</td>\n",
       "    </tr>\n",
       "    <tr>\n",
       "      <th>264649825</th>\n",
       "      <td>55.141539</td>\n",
       "      <td>2</td>\n",
       "      <td>1240.04</td>\n",
       "    </tr>\n",
       "  </tbody>\n",
       "</table>\n",
       "</div>"
      ],
      "text/plain": [
       "             Recency  Frequency  Monetary\n",
       "user_id                                  \n",
       "138340325  19.758866          1     93.50\n",
       "225644257  18.819780          1     40.91\n",
       "253299396  24.546169          1    246.85\n",
       "256164170  10.651921          1    113.23\n",
       "264649825  55.141539          2   1240.04"
      ]
     },
     "execution_count": 19,
     "metadata": {},
     "output_type": "execute_result"
    }
   ],
   "source": [
    "#Calculate Recency, Frequency, and Monetary of the data\n",
    "RFM= data.groupby('user_id').agg(Recency=('last_purchase',lambda x: x.min()),\n",
    "                                 Frequency=('user_id',lambda x: x.count()),\n",
    "                                 Monetary=('money_spent',lambda x: x.sum()))\n",
    "RFM.head()\n"
   ]
  },
  {
   "cell_type": "markdown",
   "id": "0ec8673d",
   "metadata": {
    "papermill": {
     "duration": 0.038751,
     "end_time": "2021-07-11T04:31:35.187650",
     "exception": false,
     "start_time": "2021-07-11T04:31:35.148899",
     "status": "completed"
    },
    "tags": []
   },
   "source": [
    "# **Frequency**"
   ]
  },
  {
   "cell_type": "markdown",
   "id": "3173a6ad",
   "metadata": {
    "papermill": {
     "duration": 0.039002,
     "end_time": "2021-07-11T04:31:35.265745",
     "exception": false,
     "start_time": "2021-07-11T04:31:35.226743",
     "status": "completed"
    },
    "tags": []
   },
   "source": [
    "Frequency attribute answers the question: How often do they purchase?"
   ]
  },
  {
   "cell_type": "code",
   "execution_count": 20,
   "id": "74832eb4",
   "metadata": {
    "execution": {
     "iopub.execute_input": "2021-07-11T04:31:35.347748Z",
     "iopub.status.busy": "2021-07-11T04:31:35.347103Z",
     "iopub.status.idle": "2021-07-11T04:31:35.378189Z",
     "shell.execute_reply": "2021-07-11T04:31:35.377543Z",
     "shell.execute_reply.started": "2021-07-11T03:53:19.100963Z"
    },
    "papermill": {
     "duration": 0.073723,
     "end_time": "2021-07-11T04:31:35.378385",
     "exception": false,
     "start_time": "2021-07-11T04:31:35.304662",
     "status": "completed"
    },
    "tags": []
   },
   "outputs": [
    {
     "data": {
      "text/plain": [
       "count    697470.000000\n",
       "mean          2.011209\n",
       "std           2.979720\n",
       "min           1.000000\n",
       "25%           1.000000\n",
       "50%           1.000000\n",
       "75%           2.000000\n",
       "max         328.000000\n",
       "Name: Frequency, dtype: float64"
      ]
     },
     "execution_count": 20,
     "metadata": {},
     "output_type": "execute_result"
    }
   ],
   "source": [
    "RFM['Frequency'].describe()"
   ]
  },
  {
   "cell_type": "markdown",
   "id": "e3ca447c",
   "metadata": {
    "papermill": {
     "duration": 0.039525,
     "end_time": "2021-07-11T04:31:35.459141",
     "exception": false,
     "start_time": "2021-07-11T04:31:35.419616",
     "status": "completed"
    },
    "tags": []
   },
   "source": [
    "# **Monetary**"
   ]
  },
  {
   "cell_type": "markdown",
   "id": "f8b3b1da",
   "metadata": {
    "papermill": {
     "duration": 0.039239,
     "end_time": "2021-07-11T04:31:35.537789",
     "exception": false,
     "start_time": "2021-07-11T04:31:35.498550",
     "status": "completed"
    },
    "tags": []
   },
   "source": [
    "Monetary attribute answers the question: How much do they spend overtime?\n"
   ]
  },
  {
   "cell_type": "code",
   "execution_count": 21,
   "id": "1c56df65",
   "metadata": {
    "execution": {
     "iopub.execute_input": "2021-07-11T04:31:35.622609Z",
     "iopub.status.busy": "2021-07-11T04:31:35.621577Z",
     "iopub.status.idle": "2021-07-11T04:31:35.654777Z",
     "shell.execute_reply": "2021-07-11T04:31:35.654172Z",
     "shell.execute_reply.started": "2021-07-11T03:56:23.492201Z"
    },
    "papermill": {
     "duration": 0.077546,
     "end_time": "2021-07-11T04:31:35.654908",
     "exception": false,
     "start_time": "2021-07-11T04:31:35.577362",
     "status": "completed"
    },
    "tags": []
   },
   "outputs": [
    {
     "data": {
      "text/plain": [
       "count    697470.000000\n",
       "mean         25.094585\n",
       "std          17.223048\n",
       "min           0.000185\n",
       "25%          12.871965\n",
       "50%          20.587141\n",
       "75%          39.693811\n",
       "max          60.995810\n",
       "Name: Recency, dtype: float64"
      ]
     },
     "execution_count": 21,
     "metadata": {},
     "output_type": "execute_result"
    }
   ],
   "source": [
    "RFM['Recency'].describe()"
   ]
  },
  {
   "cell_type": "markdown",
   "id": "85c33029",
   "metadata": {
    "papermill": {
     "duration": 0.039781,
     "end_time": "2021-07-11T04:31:35.734766",
     "exception": false,
     "start_time": "2021-07-11T04:31:35.694985",
     "status": "completed"
    },
    "tags": []
   },
   "source": [
    "# **RFM Segmentation**"
   ]
  },
  {
   "cell_type": "markdown",
   "id": "435e65a2",
   "metadata": {
    "papermill": {
     "duration": 0.039924,
     "end_time": "2021-07-11T04:31:35.814696",
     "exception": false,
     "start_time": "2021-07-11T04:31:35.774772",
     "status": "completed"
    },
    "tags": []
   },
   "source": [
    "RFM segmentation is a useful tool for identifying groups of clients who should be given extra attention. RFM segmentation enables marketers to target specific groups of customers with communications that are far more relevant to their unique behaviors, resulting in improved response rates, enhanced loyalty, and increased customer lifetime value. RFM segmentation is a method for segmenting data, just like other approaches. \n",
    "\n",
    "The simplest way to create customers segments from RFM Model is to use Quartiles. We assign a score from 1 to 4 to Recency, Frequency and Monetary. Four is the best/highest value, and one is the lowest/worst value. A final RFM score is calculated simply by combining individual RFM score numbers."
   ]
  },
  {
   "cell_type": "markdown",
   "id": "7e684188",
   "metadata": {
    "papermill": {
     "duration": 0.039677,
     "end_time": "2021-07-11T04:31:35.895577",
     "exception": false,
     "start_time": "2021-07-11T04:31:35.855900",
     "status": "completed"
    },
    "tags": []
   },
   "source": [
    "**RFM Quartiles**"
   ]
  },
  {
   "cell_type": "code",
   "execution_count": 22,
   "id": "70fb2072",
   "metadata": {
    "execution": {
     "iopub.execute_input": "2021-07-11T04:31:35.983184Z",
     "iopub.status.busy": "2021-07-11T04:31:35.981043Z",
     "iopub.status.idle": "2021-07-11T04:31:36.046922Z",
     "shell.execute_reply": "2021-07-11T04:31:36.046262Z",
     "shell.execute_reply.started": "2021-07-11T03:19:58.683095Z"
    },
    "papermill": {
     "duration": 0.11154,
     "end_time": "2021-07-11T04:31:36.047087",
     "exception": false,
     "start_time": "2021-07-11T04:31:35.935547",
     "status": "completed"
    },
    "tags": []
   },
   "outputs": [
    {
     "data": {
      "text/html": [
       "<div>\n",
       "<style scoped>\n",
       "    .dataframe tbody tr th:only-of-type {\n",
       "        vertical-align: middle;\n",
       "    }\n",
       "\n",
       "    .dataframe tbody tr th {\n",
       "        vertical-align: top;\n",
       "    }\n",
       "\n",
       "    .dataframe thead th {\n",
       "        text-align: right;\n",
       "    }\n",
       "</style>\n",
       "<table border=\"1\" class=\"dataframe\">\n",
       "  <thead>\n",
       "    <tr style=\"text-align: right;\">\n",
       "      <th></th>\n",
       "      <th>Recency</th>\n",
       "      <th>Frequency</th>\n",
       "      <th>Monetary</th>\n",
       "    </tr>\n",
       "  </thead>\n",
       "  <tbody>\n",
       "    <tr>\n",
       "      <th>0.25</th>\n",
       "      <td>12.871965</td>\n",
       "      <td>1.0</td>\n",
       "      <td>118.38</td>\n",
       "    </tr>\n",
       "    <tr>\n",
       "      <th>0.50</th>\n",
       "      <td>20.587141</td>\n",
       "      <td>1.0</td>\n",
       "      <td>257.15</td>\n",
       "    </tr>\n",
       "    <tr>\n",
       "      <th>0.75</th>\n",
       "      <td>39.693811</td>\n",
       "      <td>2.0</td>\n",
       "      <td>669.23</td>\n",
       "    </tr>\n",
       "  </tbody>\n",
       "</table>\n",
       "</div>"
      ],
      "text/plain": [
       "        Recency  Frequency  Monetary\n",
       "0.25  12.871965        1.0    118.38\n",
       "0.50  20.587141        1.0    257.15\n",
       "0.75  39.693811        2.0    669.23"
      ]
     },
     "execution_count": 22,
     "metadata": {},
     "output_type": "execute_result"
    }
   ],
   "source": [
    "RFM.quantile(q=[0.25,0.5,0.75])"
   ]
  },
  {
   "cell_type": "code",
   "execution_count": 23,
   "id": "0af6ea21",
   "metadata": {
    "execution": {
     "iopub.execute_input": "2021-07-11T04:31:36.137412Z",
     "iopub.status.busy": "2021-07-11T04:31:36.135380Z",
     "iopub.status.idle": "2021-07-11T04:31:36.196466Z",
     "shell.execute_reply": "2021-07-11T04:31:36.195808Z",
     "shell.execute_reply.started": "2021-07-11T03:20:01.283250Z"
    },
    "papermill": {
     "duration": 0.108533,
     "end_time": "2021-07-11T04:31:36.196605",
     "exception": false,
     "start_time": "2021-07-11T04:31:36.088072",
     "status": "completed"
    },
    "tags": []
   },
   "outputs": [
    {
     "data": {
      "text/plain": [
       "{'Recency': {0.25: 12.871964699074075,\n",
       "  0.5: 20.587141203703705,\n",
       "  0.75: 39.69381076388889},\n",
       " 'Frequency': {0.25: 1.0, 0.5: 1.0, 0.75: 2.0},\n",
       " 'Monetary': {0.25: 118.38, 0.5: 257.15, 0.75: 669.23}}"
      ]
     },
     "execution_count": 23,
     "metadata": {},
     "output_type": "execute_result"
    }
   ],
   "source": [
    "quartiles=RFM.quantile(q=[0.25,0.5,0.75]).to_dict()\n",
    "quartiles"
   ]
  },
  {
   "cell_type": "markdown",
   "id": "e7b44ef0",
   "metadata": {
    "papermill": {
     "duration": 0.040493,
     "end_time": "2021-07-11T04:31:36.278064",
     "exception": false,
     "start_time": "2021-07-11T04:31:36.237571",
     "status": "completed"
    },
    "tags": []
   },
   "source": [
    "# **Creation of RFM Segments**"
   ]
  },
  {
   "cell_type": "code",
   "execution_count": 24,
   "id": "e490f769",
   "metadata": {
    "execution": {
     "iopub.execute_input": "2021-07-11T04:31:36.367257Z",
     "iopub.status.busy": "2021-07-11T04:31:36.366231Z",
     "iopub.status.idle": "2021-07-11T04:31:36.369800Z",
     "shell.execute_reply": "2021-07-11T04:31:36.369176Z",
     "shell.execute_reply.started": "2021-07-11T03:20:04.853331Z"
    },
    "papermill": {
     "duration": 0.051429,
     "end_time": "2021-07-11T04:31:36.369938",
     "exception": false,
     "start_time": "2021-07-11T04:31:36.318509",
     "status": "completed"
    },
    "tags": []
   },
   "outputs": [],
   "source": [
    "## for Recency \n",
    "\n",
    "def R(x,p,d):\n",
    "    if x <= d[p][0.25]:\n",
    "        return 1\n",
    "    elif x <= d[p][0.50]:\n",
    "        return 2\n",
    "    elif x <= d[p][0.75]: \n",
    "        return 3\n",
    "    else:\n",
    "        return 4\n",
    "    \n",
    "## for Frequency and Monetary \n",
    "\n",
    "def FM(x,p,d):\n",
    "    if x <= d[p][0.25]:\n",
    "        return 4\n",
    "    elif x <= d[p][0.50]:\n",
    "        return 3\n",
    "    elif x <= d[p][0.75]: \n",
    "        return 2\n",
    "    else:\n",
    "        return 1    \n",
    "    "
   ]
  },
  {
   "cell_type": "code",
   "execution_count": 25,
   "id": "0a7ac7c6",
   "metadata": {
    "execution": {
     "iopub.execute_input": "2021-07-11T04:31:36.478636Z",
     "iopub.status.busy": "2021-07-11T04:31:36.477575Z",
     "iopub.status.idle": "2021-07-11T04:31:41.209561Z",
     "shell.execute_reply": "2021-07-11T04:31:41.210061Z",
     "shell.execute_reply.started": "2021-07-11T03:22:14.712803Z"
    },
    "papermill": {
     "duration": 4.792156,
     "end_time": "2021-07-11T04:31:41.210240",
     "exception": false,
     "start_time": "2021-07-11T04:31:36.418084",
     "status": "completed"
    },
    "tags": []
   },
   "outputs": [
    {
     "data": {
      "text/html": [
       "<div>\n",
       "<style scoped>\n",
       "    .dataframe tbody tr th:only-of-type {\n",
       "        vertical-align: middle;\n",
       "    }\n",
       "\n",
       "    .dataframe tbody tr th {\n",
       "        vertical-align: top;\n",
       "    }\n",
       "\n",
       "    .dataframe thead th {\n",
       "        text-align: right;\n",
       "    }\n",
       "</style>\n",
       "<table border=\"1\" class=\"dataframe\">\n",
       "  <thead>\n",
       "    <tr style=\"text-align: right;\">\n",
       "      <th></th>\n",
       "      <th>Recency</th>\n",
       "      <th>Frequency</th>\n",
       "      <th>Monetary</th>\n",
       "      <th>R_Quartile</th>\n",
       "      <th>F_Quartile</th>\n",
       "      <th>M_Quartile</th>\n",
       "      <th>RFM_segmentation</th>\n",
       "      <th>RFM_score</th>\n",
       "    </tr>\n",
       "    <tr>\n",
       "      <th>user_id</th>\n",
       "      <th></th>\n",
       "      <th></th>\n",
       "      <th></th>\n",
       "      <th></th>\n",
       "      <th></th>\n",
       "      <th></th>\n",
       "      <th></th>\n",
       "      <th></th>\n",
       "    </tr>\n",
       "  </thead>\n",
       "  <tbody>\n",
       "    <tr>\n",
       "      <th>138340325</th>\n",
       "      <td>19.758866</td>\n",
       "      <td>1</td>\n",
       "      <td>93.50</td>\n",
       "      <td>2</td>\n",
       "      <td>4</td>\n",
       "      <td>4</td>\n",
       "      <td>244</td>\n",
       "      <td>10</td>\n",
       "    </tr>\n",
       "    <tr>\n",
       "      <th>225644257</th>\n",
       "      <td>18.819780</td>\n",
       "      <td>1</td>\n",
       "      <td>40.91</td>\n",
       "      <td>2</td>\n",
       "      <td>4</td>\n",
       "      <td>4</td>\n",
       "      <td>244</td>\n",
       "      <td>10</td>\n",
       "    </tr>\n",
       "    <tr>\n",
       "      <th>253299396</th>\n",
       "      <td>24.546169</td>\n",
       "      <td>1</td>\n",
       "      <td>246.85</td>\n",
       "      <td>3</td>\n",
       "      <td>4</td>\n",
       "      <td>3</td>\n",
       "      <td>343</td>\n",
       "      <td>10</td>\n",
       "    </tr>\n",
       "    <tr>\n",
       "      <th>256164170</th>\n",
       "      <td>10.651921</td>\n",
       "      <td>1</td>\n",
       "      <td>113.23</td>\n",
       "      <td>1</td>\n",
       "      <td>4</td>\n",
       "      <td>4</td>\n",
       "      <td>144</td>\n",
       "      <td>9</td>\n",
       "    </tr>\n",
       "    <tr>\n",
       "      <th>264649825</th>\n",
       "      <td>55.141539</td>\n",
       "      <td>2</td>\n",
       "      <td>1240.04</td>\n",
       "      <td>4</td>\n",
       "      <td>2</td>\n",
       "      <td>1</td>\n",
       "      <td>421</td>\n",
       "      <td>7</td>\n",
       "    </tr>\n",
       "  </tbody>\n",
       "</table>\n",
       "</div>"
      ],
      "text/plain": [
       "             Recency  Frequency  Monetary  R_Quartile  F_Quartile  M_Quartile  \\\n",
       "user_id                                                                         \n",
       "138340325  19.758866          1     93.50           2           4           4   \n",
       "225644257  18.819780          1     40.91           2           4           4   \n",
       "253299396  24.546169          1    246.85           3           4           3   \n",
       "256164170  10.651921          1    113.23           1           4           4   \n",
       "264649825  55.141539          2   1240.04           4           2           1   \n",
       "\n",
       "          RFM_segmentation  RFM_score  \n",
       "user_id                                \n",
       "138340325              244         10  \n",
       "225644257              244         10  \n",
       "253299396              343         10  \n",
       "256164170              144          9  \n",
       "264649825              421          7  "
      ]
     },
     "execution_count": 25,
     "metadata": {},
     "output_type": "execute_result"
    }
   ],
   "source": [
    "#create RFM segmentation column\n",
    "RFM['R_Quartile'] = RFM['Recency'].apply(R, args=('Recency',quartiles,))\n",
    "RFM['F_Quartile'] = RFM['Frequency'].apply(FM, args=('Frequency',quartiles,))\n",
    "RFM['M_Quartile'] = RFM['Monetary'].apply(FM, args=('Monetary',quartiles,))\n",
    "RFM['RFM_segmentation'] = RFM.R_Quartile.map(str) \\\n",
    "                    + RFM.F_Quartile.map(str) \\\n",
    "                    + RFM.M_Quartile.map(str)\n",
    "RFM['RFM_score'] = RFM.R_Quartile.map(int) \\\n",
    "                    + RFM.F_Quartile.map(int) \\\n",
    "                    + RFM.M_Quartile.map(int)\n",
    "RFM.head()\n"
   ]
  },
  {
   "cell_type": "code",
   "execution_count": 26,
   "id": "484d3cad",
   "metadata": {
    "execution": {
     "iopub.execute_input": "2021-07-11T04:31:41.302021Z",
     "iopub.status.busy": "2021-07-11T04:31:41.301290Z",
     "iopub.status.idle": "2021-07-11T04:31:59.594745Z",
     "shell.execute_reply": "2021-07-11T04:31:59.595280Z",
     "shell.execute_reply.started": "2021-07-11T03:20:26.523114Z"
    },
    "papermill": {
     "duration": 18.343666,
     "end_time": "2021-07-11T04:31:59.595455",
     "exception": false,
     "start_time": "2021-07-11T04:31:41.251789",
     "status": "completed"
    },
    "tags": []
   },
   "outputs": [
    {
     "data": {
      "text/html": [
       "<div>\n",
       "<style scoped>\n",
       "    .dataframe tbody tr th:only-of-type {\n",
       "        vertical-align: middle;\n",
       "    }\n",
       "\n",
       "    .dataframe tbody tr th {\n",
       "        vertical-align: top;\n",
       "    }\n",
       "\n",
       "    .dataframe thead th {\n",
       "        text-align: right;\n",
       "    }\n",
       "</style>\n",
       "<table border=\"1\" class=\"dataframe\">\n",
       "  <thead>\n",
       "    <tr style=\"text-align: right;\">\n",
       "      <th></th>\n",
       "      <th>Recency</th>\n",
       "      <th>Frequency</th>\n",
       "      <th>Monetary</th>\n",
       "      <th>R_Quartile</th>\n",
       "      <th>F_Quartile</th>\n",
       "      <th>M_Quartile</th>\n",
       "      <th>RFM_segmentation</th>\n",
       "      <th>RFM_score</th>\n",
       "      <th>RFM_label</th>\n",
       "    </tr>\n",
       "    <tr>\n",
       "      <th>user_id</th>\n",
       "      <th></th>\n",
       "      <th></th>\n",
       "      <th></th>\n",
       "      <th></th>\n",
       "      <th></th>\n",
       "      <th></th>\n",
       "      <th></th>\n",
       "      <th></th>\n",
       "      <th></th>\n",
       "    </tr>\n",
       "  </thead>\n",
       "  <tbody>\n",
       "    <tr>\n",
       "      <th>138340325</th>\n",
       "      <td>19.758866</td>\n",
       "      <td>1</td>\n",
       "      <td>93.50</td>\n",
       "      <td>2</td>\n",
       "      <td>4</td>\n",
       "      <td>4</td>\n",
       "      <td>244</td>\n",
       "      <td>10</td>\n",
       "      <td>Lost</td>\n",
       "    </tr>\n",
       "    <tr>\n",
       "      <th>225644257</th>\n",
       "      <td>18.819780</td>\n",
       "      <td>1</td>\n",
       "      <td>40.91</td>\n",
       "      <td>2</td>\n",
       "      <td>4</td>\n",
       "      <td>4</td>\n",
       "      <td>244</td>\n",
       "      <td>10</td>\n",
       "      <td>Lost</td>\n",
       "    </tr>\n",
       "    <tr>\n",
       "      <th>253299396</th>\n",
       "      <td>24.546169</td>\n",
       "      <td>1</td>\n",
       "      <td>246.85</td>\n",
       "      <td>3</td>\n",
       "      <td>4</td>\n",
       "      <td>3</td>\n",
       "      <td>343</td>\n",
       "      <td>10</td>\n",
       "      <td>Lost</td>\n",
       "    </tr>\n",
       "    <tr>\n",
       "      <th>256164170</th>\n",
       "      <td>10.651921</td>\n",
       "      <td>1</td>\n",
       "      <td>113.23</td>\n",
       "      <td>1</td>\n",
       "      <td>4</td>\n",
       "      <td>4</td>\n",
       "      <td>144</td>\n",
       "      <td>9</td>\n",
       "      <td>Hibernating</td>\n",
       "    </tr>\n",
       "    <tr>\n",
       "      <th>264649825</th>\n",
       "      <td>55.141539</td>\n",
       "      <td>2</td>\n",
       "      <td>1240.04</td>\n",
       "      <td>4</td>\n",
       "      <td>2</td>\n",
       "      <td>1</td>\n",
       "      <td>421</td>\n",
       "      <td>7</td>\n",
       "      <td>About To Sleep</td>\n",
       "    </tr>\n",
       "  </tbody>\n",
       "</table>\n",
       "</div>"
      ],
      "text/plain": [
       "             Recency  Frequency  Monetary  R_Quartile  F_Quartile  M_Quartile  \\\n",
       "user_id                                                                         \n",
       "138340325  19.758866          1     93.50           2           4           4   \n",
       "225644257  18.819780          1     40.91           2           4           4   \n",
       "253299396  24.546169          1    246.85           3           4           3   \n",
       "256164170  10.651921          1    113.23           1           4           4   \n",
       "264649825  55.141539          2   1240.04           4           2           1   \n",
       "\n",
       "          RFM_segmentation  RFM_score       RFM_label  \n",
       "user_id                                                \n",
       "138340325              244         10            Lost  \n",
       "225644257              244         10            Lost  \n",
       "253299396              343         10            Lost  \n",
       "256164170              144          9     Hibernating  \n",
       "264649825              421          7  About To Sleep  "
      ]
     },
     "execution_count": 26,
     "metadata": {},
     "output_type": "execute_result"
    }
   ],
   "source": [
    "# Define rfm_level function\n",
    "def RFM_label(data):\n",
    "    if data['RFM_score'] >= 10:\n",
    "        return 'Lost'\n",
    "    elif ((data['RFM_score'] >= 9) and (data['RFM_score'] < 10)):\n",
    "        return 'Hibernating'\n",
    "    elif ((data['RFM_score'] >= 8) and (data['RFM_score'] < 9)):\n",
    "        return 'Can’t Lose Them'\n",
    "    elif ((data['RFM_score'] >= 7) and (data['RFM_score'] < 8)):\n",
    "        return 'About To Sleep'\n",
    "    elif ((data['RFM_score'] >= 6) and (data['RFM_score'] < 7)):\n",
    "        return 'Promising'\n",
    "    elif ((data['RFM_score'] >= 5) and (data['RFM_score'] < 6)):\n",
    "        return 'Potential Loyalist'\n",
    "    elif ((data['RFM_score'] >= 4) and (data['RFM_score'] < 5)):\n",
    "        return 'Loyal Customers'\n",
    "    else:\n",
    "        return 'Champions'\n",
    "#Create RFM label for customer\n",
    "RFM['RFM_label'] = RFM.apply(RFM_label, axis=1)\n",
    "RFM.head()"
   ]
  },
  {
   "cell_type": "markdown",
   "id": "049d30e6",
   "metadata": {
    "papermill": {
     "duration": 0.042136,
     "end_time": "2021-07-11T04:31:59.679514",
     "exception": false,
     "start_time": "2021-07-11T04:31:59.637378",
     "status": "completed"
    },
    "tags": []
   },
   "source": [
    "How many customers do we have in each segment?\n"
   ]
  },
  {
   "cell_type": "code",
   "execution_count": 27,
   "id": "2b1b0882",
   "metadata": {
    "execution": {
     "iopub.execute_input": "2021-07-11T04:31:59.769662Z",
     "iopub.status.busy": "2021-07-11T04:31:59.768952Z",
     "iopub.status.idle": "2021-07-11T04:31:59.901332Z",
     "shell.execute_reply": "2021-07-11T04:31:59.901846Z",
     "shell.execute_reply.started": "2021-07-11T03:20:55.504149Z"
    },
    "papermill": {
     "duration": 0.180446,
     "end_time": "2021-07-11T04:31:59.902038",
     "exception": false,
     "start_time": "2021-07-11T04:31:59.721592",
     "status": "completed"
    },
    "tags": []
   },
   "outputs": [
    {
     "name": "stdout",
     "output_type": "stream",
     "text": [
      "                   Recency Frequency Monetary        \n",
      "                      mean      mean     mean   count\n",
      "RFM_label                                            \n",
      "About To Sleep        20.5       1.7    628.8   71309\n",
      "Can’t Lose Them       19.9       1.3    406.9   90809\n",
      "Champions              5.1       7.9   3777.5   37405\n",
      "Hibernating           22.5       1.1    309.2  114053\n",
      "Lost                  38.6       1.0    141.1  231538\n",
      "Loyal Customers       10.4       4.3   1897.9   40675\n",
      "Potential Loyalist    16.8       3.5   1468.7   52728\n",
      "Promising             21.1       2.5   1009.3   58953\n"
     ]
    }
   ],
   "source": [
    "# Calculate average values for each RFM_Level, and return a size of each segment \n",
    "RFM_desc = RFM.groupby('RFM_label').agg({\n",
    "    'Recency': 'mean',\n",
    "    'Frequency': 'mean',\n",
    "    'Monetary': ['mean', 'count']\n",
    "}).round(1)\n",
    "# Print the aggregated dataset\n",
    "print(RFM_desc)"
   ]
  },
  {
   "cell_type": "code",
   "execution_count": 28,
   "id": "c34fd069",
   "metadata": {
    "execution": {
     "iopub.execute_input": "2021-07-11T04:31:59.991263Z",
     "iopub.status.busy": "2021-07-11T04:31:59.990546Z",
     "iopub.status.idle": "2021-07-11T04:32:00.181519Z",
     "shell.execute_reply": "2021-07-11T04:32:00.182050Z",
     "shell.execute_reply.started": "2021-07-11T03:21:03.082813Z"
    },
    "papermill": {
     "duration": 0.236821,
     "end_time": "2021-07-11T04:32:00.182244",
     "exception": false,
     "start_time": "2021-07-11T04:31:59.945423",
     "status": "completed"
    },
    "tags": []
   },
   "outputs": [
    {
     "data": {
      "image/png": "[encoded data removed]",
      "text/plain": [
       "<Figure size 1152x648 with 1 Axes>"
      ]
     },
     "metadata": {
      "needs_background": "light"
     },
     "output_type": "display_data"
    }
   ],
   "source": [
    "RFM_desc.columns = RFM_desc.columns.droplevel()\n",
    "RFM_desc.columns = ['RecencyMean','FrequencyMean','MonetaryMean', 'Count']\n",
    "#Create our plot and resize it.\n",
    "fig = plt.gcf()\n",
    "ax = fig.add_subplot()\n",
    "fig.set_size_inches(16, 9)\n",
    "squarify.plot(sizes=RFM_desc['Count'], \n",
    "              label=['Lost',\n",
    "                     'Hibernating',\n",
    "                     'Can’t Lose Them',\n",
    "                     'About To Sleep',\n",
    "                     'Promising', \n",
    "                     'Potential Loyalist', \n",
    "                     'Loyal Customers',\n",
    "                     'Champions'], alpha=.6 )\n",
    "plt.title(\"RFM Segments\",fontsize=18,fontweight=\"bold\")\n",
    "plt.axis('off')\n",
    "plt.show()"
   ]
  },
  {
   "cell_type": "markdown",
   "id": "6c6a1786",
   "metadata": {
    "papermill": {
     "duration": 0.043652,
     "end_time": "2021-07-11T04:32:00.269138",
     "exception": false,
     "start_time": "2021-07-11T04:32:00.225486",
     "status": "completed"
    },
    "tags": []
   },
   "source": [
    "Now that we've identified our customer categories, we can decide how to approach or deal with each customer.\n",
    "\n",
    "* Champions : Reward them. Can be early adopters of new products. Will promote your brand. Most likely to send referrals.\n",
    "* Loyal Customer : Upsell higher value products. Ask for reviews.\n",
    "* Potential Loyalist : Offer membership / loyalty program. Keep them engaged. Offer personalised recommendations.\n",
    "* Promising : Offer coupons. Bring them back to the platform and keep them engaged. Offer personalised recommendations.\n",
    "* About to Sleep : Win them back via renewals or newer products, don’t lose them to competition. Talk to them if necessary. Spend time on highest possible personalisation.\n",
    "* Can't Lose Them : Provide helpful resources on the site. Send personalised emails.\n",
    "* Hibernating : Make subject lines of emails very personalised. Revive their interest by a specific discount on a specific product.\n",
    "* Lost : Revive interest with reach out campaign. Ignore otherwise.\n",
    "\n"
   ]
  },
  {
   "cell_type": "code",
   "execution_count": null,
   "id": "3a1bcc70",
   "metadata": {},
   "outputs": [],
   "source": []
  }
 ],
 "metadata": {
  "kernelspec": {
   "display_name": "Python 3 (ipykernel)",
   "language": "python",
   "name": "python3"
  },
  "language_info": {
   "codemirror_mode": {
    "name": "ipython",
    "version": 3
   },
   "file_extension": ".py",
   "mimetype": "text/x-python",
   "name": "python",
   "nbconvert_exporter": "python",
   "pygments_lexer": "ipython3",
   "version": "3.10.9"
  },
  "papermill": {
   "default_parameters": {},
   "duration": 917.19396,
   "end_time": "2021-07-11T04:32:03.838099",
   "environment_variables": {},
   "exception": null,
   "input_path": "__notebook__.ipynb",
   "output_path": "__notebook__.ipynb",
   "parameters": {},
   "start_time": "2021-07-11T04:16:46.644139",
   "version": "2.3.3"
  }
 },
 "nbformat": 4,
 "nbformat_minor": 5
}
